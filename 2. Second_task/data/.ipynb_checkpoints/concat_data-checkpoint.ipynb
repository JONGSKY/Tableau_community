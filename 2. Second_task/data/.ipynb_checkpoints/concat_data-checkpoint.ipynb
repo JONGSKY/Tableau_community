{
 "cells": [
  {
   "cell_type": "code",
   "execution_count": 1,
   "metadata": {},
   "outputs": [],
   "source": [
    "import pandas as pd\n",
    "\n",
    "import os\n",
    "import glob"
   ]
  },
  {
   "cell_type": "code",
   "execution_count": 2,
   "metadata": {},
   "outputs": [],
   "source": [
    "all_files = glob.glob(os.path.join('subway_on_off/CARD_*'))\n",
    "all_files.sort()"
   ]
  },
  {
   "cell_type": "code",
   "execution_count": 3,
   "metadata": {},
   "outputs": [
    {
     "name": "stdout",
     "output_type": "stream",
     "text": [
      "subway_on_off/CARD_SUBWAY_MONTH_201812.csv\n",
      "subway_on_off/CARD_SUBWAY_MONTH_201901.csv\n",
      "subway_on_off/CARD_SUBWAY_MONTH_201902.csv\n",
      "subway_on_off/CARD_SUBWAY_MONTH_201903.csv\n",
      "subway_on_off/CARD_SUBWAY_MONTH_201904.csv\n",
      "subway_on_off/CARD_SUBWAY_MONTH_201905.csv\n",
      "subway_on_off/CARD_SUBWAY_MONTH_201906.csv\n",
      "subway_on_off/CARD_SUBWAY_MONTH_201907.csv\n",
      "subway_on_off/CARD_SUBWAY_MONTH_201908.csv\n",
      "subway_on_off/CARD_SUBWAY_MONTH_201909.csv\n",
      "subway_on_off/CARD_SUBWAY_MONTH_201910.csv\n",
      "subway_on_off/CARD_SUBWAY_MONTH_201911.csv\n",
      "subway_on_off/CARD_SUBWAY_MONTH_201912.csv\n",
      "subway_on_off/CARD_SUBWAY_MONTH_202001.csv\n"
     ]
    }
   ],
   "source": [
    "all_data_frames = []\n",
    "for file in all_files:\n",
    "    print(file)\n",
    "    try:\n",
    "        data_frame = pd.read_csv(file, index_col=False)\n",
    "    except UnicodeDecodeError:\n",
    "        data_frame = pd.read_csv(file, encoding='cp949', index_col=False)\n",
    "    \n",
    "    data_frame = data_frame.rename(columns={'노선명':'호선명'})\n",
    "    all_data_frames.append(data_frame)\n",
    "\n",
    "data_frame_concat = pd.concat(all_data_frames, axis=0, ignore_index=True)"
   ]
  },
  {
   "cell_type": "code",
   "execution_count": 4,
   "metadata": {},
   "outputs": [],
   "source": [
    "df_address = pd.read_excel('subway_address/4647,4661번 서울교통공사 역별 주소 현황 및 전화번호.xlsx', header=1, index_col=0)"
   ]
  },
  {
   "cell_type": "code",
   "execution_count": 5,
   "metadata": {},
   "outputs": [],
   "source": [
    "all_df = pd.merge(data_frame_concat, df_address).rename(columns={'Unnamed: 6' : '전화번호'})"
   ]
  },
  {
   "cell_type": "code",
   "execution_count": 6,
   "metadata": {},
   "outputs": [],
   "source": [
    "address_list = []\n",
    "for i in all_df['상세주소']:\n",
    "    if i == \"서울특별시 영등포구 문래동3가 68-1문래역\":\n",
    "        i = \"서울특별시 영등포구 문래동3가 68-1 문래역\"\n",
    "    list_ = i.split(' ')\n",
    "    for k in list_:\n",
    "        check_k = k.replace('-','')\n",
    "        if check_k.isdigit():\n",
    "            address_list.append(' '.join(list_[:list_.index(k)+1]))\n",
    "\n",
    "all_df['상세주소'] = address_list"
   ]
  },
  {
   "cell_type": "code",
   "execution_count": 7,
   "metadata": {},
   "outputs": [],
   "source": [
    "# df_201812 = pd.read_csv('subway_on_off/CARD_SUBWAY_MONTH_201812.csv')\n",
    "# df_201901 = pd.read_csv('subway_on_off/CARD_SUBWAY_MONTH_201901.csv')\n",
    "# df_201902 = pd.read_csv('subway_on_off/CARD_SUBWAY_MONTH_201902.csv')\n",
    "# df_201903 = pd.read_csv('subway_on_off/CARD_SUBWAY_MONTH_201903.csv')\n",
    "# df_201904 = pd.read_csv('subway_on_off/CARD_SUBWAY_MONTH_201904.csv')\n",
    "# df_201905 = pd.read_csv('subway_on_off/CARD_SUBWAY_MONTH_201905.csv')\n",
    "# df_201906 = pd.read_csv('subway_on_off/CARD_SUBWAY_MONTH_201906.csv')\n",
    "# df_201907 = pd.read_csv('subway_on_off/CARD_SUBWAY_MONTH_201907.csv')\n",
    "# df_201908 = pd.read_csv('subway_on_off/CARD_SUBWAY_MONTH_201908.csv')\n",
    "# df_201909 = pd.read_csv('subway_on_off/CARD_SUBWAY_MONTH_201909.csv')\n",
    "# df_201910 = pd.read_csv('subway_on_off/CARD_SUBWAY_MONTH_201910.csv')\n",
    "\n",
    "# df_201911 = pd.read_csv('subway_on_off/CARD_SUBWAY_MONTH_201911.csv', encoding='cp949')\n",
    "# df_201912 = pd.read_csv('subway_on_off/CARD_SUBWAY_MONTH_201912.csv', encoding='cp949')\n",
    "# df_202001 = pd.read_csv('subway_on_off/CARD_SUBWAY_MONTH_202001.csv', encoding='cp949', index_col=False)\n",
    "\n",
    "# df_address = pd.read_excel('subway_address/4647,4661번 서울교통공사 역별 주소 현황 및 전화번호.xlsx', header=1, index_col=0)"
   ]
  },
  {
   "cell_type": "code",
   "execution_count": 8,
   "metadata": {},
   "outputs": [],
   "source": [
    "# df_on_off = pd.concat([df_201812, df_201901, df_201912, df_202001]).reset_index(drop=True)\n",
    "# all_df = pd.merge(df_on_off, df_address).rename(columns={'Unnamed: 6' : '전화번호'})"
   ]
  },
  {
   "cell_type": "code",
   "execution_count": 9,
   "metadata": {},
   "outputs": [
    {
     "data": {
      "text/html": [
       "<div>\n",
       "<style scoped>\n",
       "    .dataframe tbody tr th:only-of-type {\n",
       "        vertical-align: middle;\n",
       "    }\n",
       "\n",
       "    .dataframe tbody tr th {\n",
       "        vertical-align: top;\n",
       "    }\n",
       "\n",
       "    .dataframe thead th {\n",
       "        text-align: right;\n",
       "    }\n",
       "</style>\n",
       "<table border=\"1\" class=\"dataframe\">\n",
       "  <thead>\n",
       "    <tr style=\"text-align: right;\">\n",
       "      <th></th>\n",
       "      <th>사용일자</th>\n",
       "      <th>호선명</th>\n",
       "      <th>역ID</th>\n",
       "      <th>역명</th>\n",
       "      <th>승차총승객수</th>\n",
       "      <th>하차총승객수</th>\n",
       "      <th>등록일자</th>\n",
       "      <th>호선</th>\n",
       "      <th>구</th>\n",
       "      <th>동</th>\n",
       "      <th>상세주소</th>\n",
       "      <th>전화번호</th>\n",
       "    </tr>\n",
       "  </thead>\n",
       "  <tbody>\n",
       "    <tr>\n",
       "      <th>0</th>\n",
       "      <td>20181201</td>\n",
       "      <td>경의선</td>\n",
       "      <td>1266</td>\n",
       "      <td>디지털미디어시티</td>\n",
       "      <td>2023.0</td>\n",
       "      <td>1883.0</td>\n",
       "      <td>20181204</td>\n",
       "      <td>6</td>\n",
       "      <td>은평구</td>\n",
       "      <td>수색동</td>\n",
       "      <td>서울특별시 은평구 수색동 37-36</td>\n",
       "      <td>6311-6180</td>\n",
       "    </tr>\n",
       "    <tr>\n",
       "      <th>1</th>\n",
       "      <td>20181201</td>\n",
       "      <td>6호선</td>\n",
       "      <td>2619</td>\n",
       "      <td>디지털미디어시티</td>\n",
       "      <td>9556.0</td>\n",
       "      <td>9932.0</td>\n",
       "      <td>20181204</td>\n",
       "      <td>6</td>\n",
       "      <td>은평구</td>\n",
       "      <td>수색동</td>\n",
       "      <td>서울특별시 은평구 수색동 37-36</td>\n",
       "      <td>6311-6180</td>\n",
       "    </tr>\n",
       "    <tr>\n",
       "      <th>2</th>\n",
       "      <td>20181201</td>\n",
       "      <td>공항철도 1호선</td>\n",
       "      <td>4204</td>\n",
       "      <td>디지털미디어시티</td>\n",
       "      <td>10147.0</td>\n",
       "      <td>8775.0</td>\n",
       "      <td>20181204</td>\n",
       "      <td>6</td>\n",
       "      <td>은평구</td>\n",
       "      <td>수색동</td>\n",
       "      <td>서울특별시 은평구 수색동 37-36</td>\n",
       "      <td>6311-6180</td>\n",
       "    </tr>\n",
       "    <tr>\n",
       "      <th>3</th>\n",
       "      <td>20181202</td>\n",
       "      <td>경의선</td>\n",
       "      <td>1266</td>\n",
       "      <td>디지털미디어시티</td>\n",
       "      <td>1326.0</td>\n",
       "      <td>1307.0</td>\n",
       "      <td>20181205</td>\n",
       "      <td>6</td>\n",
       "      <td>은평구</td>\n",
       "      <td>수색동</td>\n",
       "      <td>서울특별시 은평구 수색동 37-36</td>\n",
       "      <td>6311-6180</td>\n",
       "    </tr>\n",
       "    <tr>\n",
       "      <th>4</th>\n",
       "      <td>20181202</td>\n",
       "      <td>공항철도 1호선</td>\n",
       "      <td>4204</td>\n",
       "      <td>디지털미디어시티</td>\n",
       "      <td>4719.0</td>\n",
       "      <td>4588.0</td>\n",
       "      <td>20181205</td>\n",
       "      <td>6</td>\n",
       "      <td>은평구</td>\n",
       "      <td>수색동</td>\n",
       "      <td>서울특별시 은평구 수색동 37-36</td>\n",
       "      <td>6311-6180</td>\n",
       "    </tr>\n",
       "  </tbody>\n",
       "</table>\n",
       "</div>"
      ],
      "text/plain": [
       "       사용일자       호선명   역ID        역명   승차총승객수  하차총승객수      등록일자  호선    구  \\\n",
       "0  20181201       경의선  1266  디지털미디어시티   2023.0  1883.0  20181204   6  은평구   \n",
       "1  20181201       6호선  2619  디지털미디어시티   9556.0  9932.0  20181204   6  은평구   \n",
       "2  20181201  공항철도 1호선  4204  디지털미디어시티  10147.0  8775.0  20181204   6  은평구   \n",
       "3  20181202       경의선  1266  디지털미디어시티   1326.0  1307.0  20181205   6  은평구   \n",
       "4  20181202  공항철도 1호선  4204  디지털미디어시티   4719.0  4588.0  20181205   6  은평구   \n",
       "\n",
       "     동                 상세주소       전화번호  \n",
       "0  수색동  서울특별시 은평구 수색동 37-36  6311-6180  \n",
       "1  수색동  서울특별시 은평구 수색동 37-36  6311-6180  \n",
       "2  수색동  서울특별시 은평구 수색동 37-36  6311-6180  \n",
       "3  수색동  서울특별시 은평구 수색동 37-36  6311-6180  \n",
       "4  수색동  서울특별시 은평구 수색동 37-36  6311-6180  "
      ]
     },
     "execution_count": 9,
     "metadata": {},
     "output_type": "execute_result"
    }
   ],
   "source": [
    "all_df.head()"
   ]
  },
  {
   "cell_type": "code",
   "execution_count": 10,
   "metadata": {},
   "outputs": [],
   "source": [
    "address_df = pd.DataFrame(all_df['상세주소'].unique()).rename(columns={0:'상세주소'})\n",
    "address_df.to_csv('address.csv', index=False, encoding='cp949')"
   ]
  },
  {
   "cell_type": "code",
   "execution_count": 11,
   "metadata": {},
   "outputs": [],
   "source": [
    "all_df.to_csv('all_df.csv', index=False, encoding='cp949')"
   ]
  }
 ],
 "metadata": {
  "kernelspec": {
   "display_name": "python_3",
   "language": "python",
   "name": "python_3"
  },
  "language_info": {
   "codemirror_mode": {
    "name": "ipython",
    "version": 3
   },
   "file_extension": ".py",
   "mimetype": "text/x-python",
   "name": "python",
   "nbconvert_exporter": "python",
   "pygments_lexer": "ipython3",
   "version": "3.5.6"
  }
 },
 "nbformat": 4,
 "nbformat_minor": 2
}
