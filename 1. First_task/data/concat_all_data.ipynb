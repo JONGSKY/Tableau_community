{
 "cells": [
  {
   "cell_type": "code",
   "execution_count": 1,
   "metadata": {},
   "outputs": [],
   "source": [
    "import pandas as pd"
   ]
  },
  {
   "cell_type": "code",
   "execution_count": 2,
   "metadata": {},
   "outputs": [],
   "source": [
    "df_1 = pd.read_csv('디지털성범죄.csv')\n",
    "df_1['title'] = \"디지털성범죄\"\n",
    "df_2 = pd.read_csv('미세먼지.csv')\n",
    "df_2['title'] = \"미세먼지\"\n",
    "df_3 = pd.read_csv('아프리카돼지열병.csv')\n",
    "df_3['title'] = \"아프리카돼지열병\"\n",
    "df_4 = pd.read_csv('일회용플라스틱.csv')\n",
    "df_4['title'] = \"일회용플라스틱\"\n",
    "df_5 = pd.read_csv('최저임금.csv')\n",
    "df_5['title'] = \"최저임금\""
   ]
  },
  {
   "cell_type": "code",
   "execution_count": 3,
   "metadata": {},
   "outputs": [],
   "source": [
    "all_df = pd.concat([df_1[:20],df_2[:20],df_3[:20],df_4[:20],df_5[:20]])"
   ]
  },
  {
   "cell_type": "code",
   "execution_count": 4,
   "metadata": {},
   "outputs": [
    {
     "data": {
      "text/html": [
       "<div>\n",
       "<style scoped>\n",
       "    .dataframe tbody tr th:only-of-type {\n",
       "        vertical-align: middle;\n",
       "    }\n",
       "\n",
       "    .dataframe tbody tr th {\n",
       "        vertical-align: top;\n",
       "    }\n",
       "\n",
       "    .dataframe thead th {\n",
       "        text-align: right;\n",
       "    }\n",
       "</style>\n",
       "<table border=\"1\" class=\"dataframe\">\n",
       "  <thead>\n",
       "    <tr style=\"text-align: right;\">\n",
       "      <th></th>\n",
       "      <th>keyword</th>\n",
       "      <th>count</th>\n",
       "      <th>title</th>\n",
       "    </tr>\n",
       "  </thead>\n",
       "  <tbody>\n",
       "    <tr>\n",
       "      <td>0</td>\n",
       "      <td>범죄</td>\n",
       "      <td>1944</td>\n",
       "      <td>디지털성범죄</td>\n",
       "    </tr>\n",
       "    <tr>\n",
       "      <td>1</td>\n",
       "      <td>불법</td>\n",
       "      <td>1810</td>\n",
       "      <td>디지털성범죄</td>\n",
       "    </tr>\n",
       "    <tr>\n",
       "      <td>2</td>\n",
       "      <td>피해자</td>\n",
       "      <td>1408</td>\n",
       "      <td>디지털성범죄</td>\n",
       "    </tr>\n",
       "    <tr>\n",
       "      <td>3</td>\n",
       "      <td>디지털</td>\n",
       "      <td>1310</td>\n",
       "      <td>디지털성범죄</td>\n",
       "    </tr>\n",
       "    <tr>\n",
       "      <td>4</td>\n",
       "      <td>디지털성</td>\n",
       "      <td>1234</td>\n",
       "      <td>디지털성범죄</td>\n",
       "    </tr>\n",
       "  </tbody>\n",
       "</table>\n",
       "</div>"
      ],
      "text/plain": [
       "  keyword  count   title\n",
       "0      범죄   1944  디지털성범죄\n",
       "1      불법   1810  디지털성범죄\n",
       "2     피해자   1408  디지털성범죄\n",
       "3     디지털   1310  디지털성범죄\n",
       "4    디지털성   1234  디지털성범죄"
      ]
     },
     "execution_count": 4,
     "metadata": {},
     "output_type": "execute_result"
    }
   ],
   "source": [
    "all_df.head()"
   ]
  },
  {
   "cell_type": "code",
   "execution_count": 5,
   "metadata": {},
   "outputs": [],
   "source": [
    "all_df.to_csv('all_data.csv', index=False)"
   ]
  }
 ],
 "metadata": {
  "kernelspec": {
   "display_name": "python_3",
   "language": "python",
   "name": "python_3"
  },
  "language_info": {
   "codemirror_mode": {
    "name": "ipython",
    "version": 3
   },
   "file_extension": ".py",
   "mimetype": "text/x-python",
   "name": "python",
   "nbconvert_exporter": "python",
   "pygments_lexer": "ipython3",
   "version": "3.7.4"
  }
 },
 "nbformat": 4,
 "nbformat_minor": 2
}
