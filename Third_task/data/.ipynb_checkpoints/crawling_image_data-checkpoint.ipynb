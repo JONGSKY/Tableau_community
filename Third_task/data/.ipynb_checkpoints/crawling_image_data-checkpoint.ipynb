{
 "cells": [
  {
   "cell_type": "code",
   "execution_count": 1,
   "metadata": {},
   "outputs": [],
   "source": [
    "import pandas as pd\n",
    "from selenium import webdriver\n",
    "import time\n",
    "from bs4 import BeautifulSoup\n",
    "import urllib.request"
   ]
  },
  {
   "cell_type": "code",
   "execution_count": 2,
   "metadata": {},
   "outputs": [],
   "source": [
    "all_df = pd.read_csv('21대_국회의원선거_후보자_데이터.csv', index_col=False)"
   ]
  },
  {
   "cell_type": "code",
   "execution_count": 3,
   "metadata": {},
   "outputs": [
    {
     "data": {
      "text/plain": [
       "(1101, 22)"
      ]
     },
     "execution_count": 3,
     "metadata": {},
     "output_type": "execute_result"
    }
   ],
   "source": [
    "all_df.shape"
   ]
  },
  {
   "cell_type": "code",
   "execution_count": 4,
   "metadata": {},
   "outputs": [],
   "source": [
    "get_list = []\n",
    "img_url_list = []\n",
    "driver = webdriver.Chrome('chromedriver')\n",
    "\n",
    "for i in all_df['공약링크']:\n",
    "    driver.get(i)\n",
    "    time.sleep(2)\n",
    "    html=driver.page_source\n",
    "    soup=BeautifulSoup(html,'html.parser')\n",
    "    \n",
    "    data_name_1 = soup.select_one('#contentUl > li > div.thumb.ty2 > dl > dd:nth-child(3)').text\n",
    "    data_name_2 = soup.select_one('#contentUl > li > div.thumb.ty2 > dl > dt').text\n",
    "    data_name_3 = soup.select_one('#contentUl > li > div.thumb.ty2 > dl > dd:nth-child(2)').text\n",
    "    \n",
    "    img_url = soup.findAll('img')[0].get('src')\n",
    "    \n",
    "    get_list.append(i)\n",
    "    img_url_list.append(img_url)\n",
    "    \n",
    "    urllib.request.urlretrieve(img_url, \"img_data/\"+data_name_1+\"_\"+data_name_2+\"_\"+data_name_3+\".jpg\")\n",
    "    time.sleep(2)\n",
    "\n",
    "driver.quit()"
   ]
  },
  {
   "cell_type": "code",
   "execution_count": 5,
   "metadata": {},
   "outputs": [],
   "source": [
    "img_df = pd.DataFrame(data=list(zip(get_list, img_url_list)), columns=['공약링크','이미지링크'])"
   ]
  },
  {
   "cell_type": "code",
   "execution_count": 7,
   "metadata": {},
   "outputs": [],
   "source": [
    "img_df.to_csv('img_link.csv', index=False)"
   ]
  }
 ],
 "metadata": {
  "kernelspec": {
   "display_name": "python_3",
   "language": "python",
   "name": "python_3"
  },
  "language_info": {
   "codemirror_mode": {
    "name": "ipython",
    "version": 3
   },
   "file_extension": ".py",
   "mimetype": "text/x-python",
   "name": "python",
   "nbconvert_exporter": "python",
   "pygments_lexer": "ipython3",
   "version": "3.7.4"
  }
 },
 "nbformat": 4,
 "nbformat_minor": 2
}
